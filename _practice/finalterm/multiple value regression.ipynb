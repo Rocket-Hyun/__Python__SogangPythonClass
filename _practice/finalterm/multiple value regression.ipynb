{
 "cells": [
  {
   "cell_type": "code",
   "execution_count": 19,
   "metadata": {},
   "outputs": [],
   "source": [
    "# Lab 4 Multi-variable linear regression\n",
    "import tensorflow as tf\n",
    "tf.set_random_seed(777)  # for reproducibility"
   ]
  },
  {
   "cell_type": "code",
   "execution_count": 20,
   "metadata": {
    "collapsed": true
   },
   "outputs": [],
   "source": [
    "x1_data = [73., 93., 89., 96., 73.]\n",
    "x2_data = [80., 88., 91., 98., 66.]\n",
    "x3_data = [75., 93., 90., 100., 70.]\n",
    "\n",
    "y_data = [152., 185., 180., 196., 142.]\n"
   ]
  },
  {
   "cell_type": "code",
   "execution_count": 21,
   "metadata": {
    "collapsed": true
   },
   "outputs": [],
   "source": [
    "# placeholders for a tensor that will be always fed.\n",
    "x1 = tf.placeholder(tf.float32)\n",
    "x2 = tf.placeholder(tf.float32)\n",
    "x3 = tf.placeholder(tf.float32)\n",
    "\n",
    "Y = tf.placeholder(tf.float32)\n"
   ]
  },
  {
   "cell_type": "code",
   "execution_count": 22,
   "metadata": {},
   "outputs": [
    {
     "name": "stdout",
     "output_type": "stream",
     "text": [
      "Tensor(\"add_20:0\", dtype=float32)\n"
     ]
    }
   ],
   "source": [
    "\n",
    "w1 = tf.Variable(tf.random_normal([1]), name='weight1')\n",
    "w2 = tf.Variable(tf.random_normal([1]), name='weight2')\n",
    "w3 = tf.Variable(tf.random_normal([1]), name='weight3')\n",
    "b = tf.Variable(tf.random_normal([1]), name='bias')\n",
    "\n",
    "hypothesis = x1 * w1 + x2 * w2 + x3 * w3 + b\n",
    "print(hypothesis)"
   ]
  },
  {
   "cell_type": "code",
   "execution_count": 32,
   "metadata": {
    "collapsed": true
   },
   "outputs": [],
   "source": [
    "\n",
    "# cost/loss function\n",
    "cost = tf.reduce_mean(tf.square(hypothesis - Y))\n",
    "\n",
    "# Minimize. Need a very small learning rate for this data set\n",
    "optimizer = tf.train.GradientDescentOptimizer(learning_rate=1e-5)\n",
    "train = optimizer.minimize(cost)\n"
   ]
  },
  {
   "cell_type": "code",
   "execution_count": 34,
   "metadata": {},
   "outputs": [
    {
     "name": "stdout",
     "output_type": "stream",
     "text": [
      "0 Cost:  23944.7 \n",
      "Prediction:\n",
      " [ 22.59580421  13.97583294  20.64156914  21.75433922   7.9406209 ]\n",
      "1000 Cost:  21.5228 \n",
      "Prediction:\n",
      " [ 157.74432373  180.28115845  182.49516296  198.21598816  135.58026123]\n",
      "2000 Cost:  12.6585 \n",
      "Prediction:\n",
      " [ 156.18484497  181.3523407   182.01997375  197.8515625   137.00346375]\n",
      "3000 Cost:  7.49971 \n",
      "Prediction:\n",
      " [ 154.99751282  182.1683197   181.65872192  197.57017517  138.09126282]\n",
      "4000 Cost:  4.49627 \n",
      "Prediction:\n",
      " [ 154.09399414  182.78970337  181.3843689   197.35215759  138.92326355]\n",
      "5000 Cost:  2.74653 \n",
      "Prediction:\n",
      " [ 153.40684509  183.26268005  181.17623901  197.18254089  139.56007385]\n",
      "6000 Cost:  1.72606 \n",
      "Prediction:\n",
      " [ 152.88467407  183.62252808  181.01861572  197.04995728  140.04801941]\n",
      "7000 Cost:  1.12983 \n",
      "Prediction:\n",
      " [ 152.48826599  183.89613342  180.89945984  196.94567871  140.42237854]\n",
      "8000 Cost:  0.780495 \n",
      "Prediction:\n",
      " [ 152.18772888  184.10395813  180.80961609  196.86305237  140.71003723]\n",
      "9000 Cost:  0.574868 \n",
      "Prediction:\n",
      " [ 151.96025085  184.26164246  180.74211121  196.79699707  140.93151855]\n",
      "10000 Cost:  0.452931 \n",
      "Prediction:\n",
      " [ 151.78846741  184.38111877  180.69160461  196.74369812  141.10250854]\n",
      "11000 Cost:  0.379776 \n",
      "Prediction:\n",
      " [ 151.65908813  184.47146606  180.65405273  196.70016479  141.23495483]\n",
      "12000 Cost:  0.33511 \n",
      "Prediction:\n",
      " [ 151.56201172  184.53962708  180.62635803  196.66415405  141.33792114]\n",
      "13000 Cost:  0.307094 \n",
      "Prediction:\n",
      " [ 151.48954773  184.59088135  180.60612488  196.63392639  141.41838074]\n",
      "14000 Cost:  0.288881 \n",
      "Prediction:\n",
      " [ 151.43582153  184.6292572   180.59159851  196.60823059  141.48161316]\n",
      "15000 Cost:  0.276449 \n",
      "Prediction:\n",
      " [ 151.39633179  184.65783691  180.58139038  196.58601379  141.53167725]\n",
      "16000 Cost:  0.267461 \n",
      "Prediction:\n",
      " [ 151.36767578  184.67893982  180.57444763  196.5664978   141.57165527]\n",
      "17000 Cost:  0.260569 \n",
      "Prediction:\n",
      " [ 151.34724426  184.69438171  180.56999207  196.54914856  141.60389709]\n",
      "18000 Cost:  0.254965 \n",
      "Prediction:\n",
      " [ 151.33303833  184.70552063  180.56738281  196.53346252  141.63018799]\n",
      "19000 Cost:  0.250193 \n",
      "Prediction:\n",
      " [ 151.32357788  184.71337891  180.56619263  196.51916504  141.6519165 ]\n",
      "20000 Cost:  0.245968 \n",
      "Prediction:\n",
      " [ 151.31768799  184.71875     180.5660553   196.50590515  141.67010498]\n"
     ]
    }
   ],
   "source": [
    "# Launch the graph in a session.\n",
    "sess = tf.Session()\n",
    "# Initializes global variables in the graph.\n",
    "sess.run(tf.global_variables_initializer())\n",
    "\n",
    "for step in range(20001):\n",
    "    cost_val, hy_val, _ = sess.run([cost, hypothesis, train],\n",
    "                                   feed_dict={x1: x1_data, x2: x2_data, x3: x3_data, Y: y_data})\n",
    "    if step % 1000 == 0:\n",
    "        print(step, \"Cost: \", cost_val, \"\\nPrediction:\\n\", hy_val)\n",
    "\n",
    "        \n",
    "        "
   ]
  },
  {
   "cell_type": "code",
   "execution_count": 35,
   "metadata": {},
   "outputs": [
    {
     "name": "stdout",
     "output_type": "stream",
     "text": [
      "[ 151.31767273  184.71875     180.56604004  196.50588989  141.67012024]\n"
     ]
    }
   ],
   "source": [
    "# Testing our model\n",
    "print(sess.run(hypothesis, feed_dict={x1: x1_data, x2: x2_data, x3: x3_data}))"
   ]
  },
  {
   "cell_type": "code",
   "execution_count": null,
   "metadata": {
    "collapsed": true
   },
   "outputs": [],
   "source": []
  }
 ],
 "metadata": {
  "kernelspec": {
   "display_name": "Python 3",
   "language": "python",
   "name": "python3"
  },
  "language_info": {
   "codemirror_mode": {
    "name": "ipython",
    "version": 3
   },
   "file_extension": ".py",
   "mimetype": "text/x-python",
   "name": "python",
   "nbconvert_exporter": "python",
   "pygments_lexer": "ipython3",
   "version": "3.6.3"
  }
 },
 "nbformat": 4,
 "nbformat_minor": 1
}
