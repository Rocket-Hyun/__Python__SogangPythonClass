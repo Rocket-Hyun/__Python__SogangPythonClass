{
 "cells": [
  {
   "cell_type": "code",
   "execution_count": 3,
   "metadata": {
    "collapsed": true
   },
   "outputs": [],
   "source": [
    "import numpy as np"
   ]
  },
  {
   "cell_type": "code",
   "execution_count": 4,
   "metadata": {},
   "outputs": [],
   "source": [
    "a = np.array([1, 2, 3])"
   ]
  },
  {
   "cell_type": "code",
   "execution_count": 5,
   "metadata": {},
   "outputs": [
    {
     "data": {
      "text/plain": [
       "array([1, 2, 3])"
      ]
     },
     "execution_count": 5,
     "metadata": {},
     "output_type": "execute_result"
    }
   ],
   "source": [
    "a"
   ]
  },
  {
   "cell_type": "code",
   "execution_count": 7,
   "metadata": {},
   "outputs": [
    {
     "name": "stdout",
     "output_type": "stream",
     "text": [
      "<class 'numpy.ndarray'>\n",
      "(3,)\n"
     ]
    }
   ],
   "source": [
    "print(type(a))  \n",
    "print(a.shape) "
   ]
  },
  {
   "cell_type": "code",
   "execution_count": 8,
   "metadata": {
    "collapsed": true
   },
   "outputs": [],
   "source": [
    "b = np.array([[1,2,3],[4,5,6]])"
   ]
  },
  {
   "cell_type": "code",
   "execution_count": 9,
   "metadata": {},
   "outputs": [
    {
     "data": {
      "text/plain": [
       "array([[1, 2, 3],\n",
       "       [4, 5, 6]])"
      ]
     },
     "execution_count": 9,
     "metadata": {},
     "output_type": "execute_result"
    }
   ],
   "source": [
    "b"
   ]
  },
  {
   "cell_type": "code",
   "execution_count": 17,
   "metadata": {},
   "outputs": [
    {
     "data": {
      "text/plain": [
       "array([[1, 2, 3]])"
      ]
     },
     "execution_count": 17,
     "metadata": {},
     "output_type": "execute_result"
    }
   ],
   "source": [
    "# 2차원 배열 일때 안에 것만 가져오기\n",
    "b[:1,:]"
   ]
  },
  {
   "cell_type": "code",
   "execution_count": 21,
   "metadata": {},
   "outputs": [
    {
     "data": {
      "text/plain": [
       "(2, 3)"
      ]
     },
     "execution_count": 21,
     "metadata": {},
     "output_type": "execute_result"
    }
   ],
   "source": [
    "b.shape"
   ]
  },
  {
   "cell_type": "code",
   "execution_count": 31,
   "metadata": {},
   "outputs": [
    {
     "data": {
      "text/plain": [
       "array([[ nan,  nan,  nan,  nan,  nan,  nan,  nan],\n",
       "       [ nan,   0.,   1.,   0.,   1.,   1.,   0.],\n",
       "       [ nan,   0.,   1.,   0.,   4.,   0.,   0.]])"
      ]
     },
     "execution_count": 31,
     "metadata": {},
     "output_type": "execute_result"
    }
   ],
   "source": [
    "# 파일에서 곧바로 읽기\n",
    "np.genfromtxt('./data/github_commits.csv', delimiter=',')[:3]"
   ]
  },
  {
   "cell_type": "code",
   "execution_count": 30,
   "metadata": {},
   "outputs": [
    {
     "data": {
      "text/plain": [
       "array([[  0.,   1.,   0.,   1.,   1.,   0.],\n",
       "       [  0.,   1.,   0.,   4.,   0.,   0.],\n",
       "       [  4.,   0.,   4.,   1.,  42.,   0.],\n",
       "       [  0.,   1.,   1.,   3.,   1.,   0.],\n",
       "       [  1.,   0.,   2.,   3.,   5.,   0.],\n",
       "       [  1.,   1.,   1.,   1.,  11.,   1.],\n",
       "       [  1.,   0.,   3.,   3.,   6.,   3.],\n",
       "       [  1.,   0.,   4.,   4.,   1.,   2.],\n",
       "       [  1.,   1.,   3.,   4.,   4.,   0.],\n",
       "       [  1.,   1.,   1.,   4.,   5.,   5.],\n",
       "       [  1.,   1.,   1.,   3.,   6.,   1.],\n",
       "       [  0.,   0.,   1.,   1.,   1.,   1.],\n",
       "       [  3.,   2.,   2.,   1.,   5.,   0.],\n",
       "       [  1.,   0.,   1.,   1.,   6.,   1.],\n",
       "       [  1.,   0.,   2.,   2.,   4.,   4.],\n",
       "       [  1.,   0.,   3.,   3.,   0.,   1.],\n",
       "       [  0.,   3.,   3.,   4.,  25.,   2.],\n",
       "       [  1.,   2.,   1.,   1.,  49.,   0.],\n",
       "       [  1.,   5.,   0.,   2.,   2.,   0.],\n",
       "       [  1.,   2.,   1.,   1.,   1.,   2.],\n",
       "       [  0.,  12.,   1.,   2.,   0.,   3.],\n",
       "       [  1.,   5.,   0.,   2.,   9.,   5.],\n",
       "       [  1.,   1.,   1.,   2.,   0.,   0.],\n",
       "       [  3.,   0.,   0.,   2.,   0.,   3.],\n",
       "       [  2.,   2.,   4.,   1.,   2.,   0.],\n",
       "       [  4.,   2.,   1.,   2.,   1.,   1.],\n",
       "       [  1.,   1.,   4.,   3.,   1.,   0.],\n",
       "       [  1.,   3.,   1.,   1.,   3.,   1.],\n",
       "       [  1.,   2.,   1.,   1.,   1.,   3.],\n",
       "       [  1.,   0.,   4.,   1.,   7.,   2.],\n",
       "       [  0.,   0.,   4.,   1.,   2.,   3.],\n",
       "       [  1.,   0.,   1.,   1.,   1.,   0.],\n",
       "       [  1.,   2.,   1.,   1.,   7.,   1.],\n",
       "       [  1.,   0.,   1.,   1.,   4.,   0.],\n",
       "       [  2.,   0.,   1.,   3.,   7.,   3.],\n",
       "       [  1.,   0.,   0.,   1.,   1.,   1.],\n",
       "       [  1.,   1.,   1.,   1.,   1.,   0.],\n",
       "       [  1.,   0.,   2.,   1.,   0.,   1.],\n",
       "       [  1.,   0.,   4.,   1.,   2.,   1.]])"
      ]
     },
     "execution_count": 30,
     "metadata": {},
     "output_type": "execute_result"
    }
   ],
   "source": [
    "np.genfromtxt('./data/github_commits.csv', delimiter=',')[1:,1:]"
   ]
  },
  {
   "cell_type": "code",
   "execution_count": 97,
   "metadata": {},
   "outputs": [
    {
     "ename": "TypeError",
     "evalue": "only integer scalar arrays can be converted to a scalar index",
     "output_type": "error",
     "traceback": [
      "\u001b[1;31m---------------------------------------------------------------------------\u001b[0m",
      "\u001b[1;31mTypeError\u001b[0m                                 Traceback (most recent call last)",
      "\u001b[1;32m<ipython-input-97-ab2b455e86ac>\u001b[0m in \u001b[0;36m<module>\u001b[1;34m()\u001b[0m\n\u001b[0;32m      8\u001b[0m \u001b[0mnumpy2\u001b[0m \u001b[1;33m=\u001b[0m \u001b[0mnp\u001b[0m\u001b[1;33m.\u001b[0m\u001b[0mempty\u001b[0m\u001b[1;33m(\u001b[0m\u001b[1;36m6\u001b[0m\u001b[1;33m)\u001b[0m\u001b[1;33m\u001b[0m\u001b[0m\n\u001b[0;32m      9\u001b[0m \u001b[0mtextnumpy\u001b[0m\u001b[1;33m\u001b[0m\u001b[0m\n\u001b[1;32m---> 10\u001b[1;33m \u001b[0mnp\u001b[0m\u001b[1;33m.\u001b[0m\u001b[0mconcatenate\u001b[0m\u001b[1;33m(\u001b[0m\u001b[0mtextnumpy\u001b[0m\u001b[1;33m,\u001b[0m\u001b[0mnumpy2\u001b[0m\u001b[1;33m)\u001b[0m\u001b[1;33m\u001b[0m\u001b[0m\n\u001b[0m\u001b[0;32m     11\u001b[0m \u001b[1;31m# for i in textlist_range:\u001b[0m\u001b[1;33m\u001b[0m\u001b[1;33m\u001b[0m\u001b[0m\n\u001b[0;32m     12\u001b[0m \u001b[1;31m#     np.append(textnumpy,i.split(\",\")[1:])\u001b[0m\u001b[1;33m\u001b[0m\u001b[1;33m\u001b[0m\u001b[0m\n",
      "\u001b[1;31mTypeError\u001b[0m: only integer scalar arrays can be converted to a scalar index"
     ]
    }
   ],
   "source": [
    "# string으로 읽은 후 numpy로 읽기\n",
    "fileName=\"./data/github_commits.csv\"\n",
    "textFile = open(fileName, \"r\", encoding=\"utf8\")\n",
    "textlist = textFile.read().split(\"\\n\")\n",
    "textlist_range = textlist[1:len(textlist)-1]\n",
    "# textlist_range[0].split(\",\")[1:]\n",
    "# textnumpy = np.empty(6)\n",
    "# numpy2 = np.empty(6)\n",
    "# textnumpy\n",
    "# np.concatenate(textnumpy,numpy2)\n",
    "# for i in textlist_range:\n",
    "#     np.append(textnumpy,i.split(\",\")[1:])\n",
    "    \n",
    "# textnumpy\n",
    "#np.asarray(textFile.read().split(\"\\n\"))\n",
    "\n",
    "#text = np.asarray(textFile.readlines())\n",
    "#text"
   ]
  },
  {
   "cell_type": "code",
   "execution_count": null,
   "metadata": {
    "collapsed": true
   },
   "outputs": [],
   "source": []
  }
 ],
 "metadata": {
  "kernelspec": {
   "display_name": "Python 3",
   "language": "python",
   "name": "python3"
  },
  "language_info": {
   "codemirror_mode": {
    "name": "ipython",
    "version": 3
   },
   "file_extension": ".py",
   "mimetype": "text/x-python",
   "name": "python",
   "nbconvert_exporter": "python",
   "pygments_lexer": "ipython3",
   "version": "3.6.3"
  }
 },
 "nbformat": 4,
 "nbformat_minor": 2
}
