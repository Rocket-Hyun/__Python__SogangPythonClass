{
 "cells": [
  {
   "cell_type": "code",
   "execution_count": 1,
   "metadata": {
    "collapsed": true
   },
   "outputs": [],
   "source": [
    "import tensorflow as tf\n",
    "tf.set_random_seed(777)  # for reproducibility"
   ]
  },
  {
   "cell_type": "code",
   "execution_count": 2,
   "metadata": {
    "collapsed": true
   },
   "outputs": [],
   "source": [
    "x_data = [[73., 80., 75.],\n",
    "          [93., 88., 93.],\n",
    "          [89., 91., 90.],\n",
    "          [96., 98., 100.],\n",
    "          [73., 66., 70.]]\n",
    "y_data = [[152.],\n",
    "          [185.],\n",
    "          [180.],\n",
    "          [196.],\n",
    "          [142.]]"
   ]
  },
  {
   "cell_type": "code",
   "execution_count": 3,
   "metadata": {
    "collapsed": true
   },
   "outputs": [],
   "source": [
    "# placeholders for a tensor that will be always fed.\n",
    "X = tf.placeholder(tf.float32, shape=[None, 3])\n",
    "Y = tf.placeholder(tf.float32, shape=[None, 1])\n",
    "\n",
    "W = tf.Variable(tf.random_normal([3, 1]), name='weight')\n",
    "b = tf.Variable(tf.random_normal([1]), name='bias')"
   ]
  },
  {
   "cell_type": "code",
   "execution_count": 4,
   "metadata": {
    "collapsed": true
   },
   "outputs": [],
   "source": [
    "\n",
    "# Hypothesis\n",
    "hypothesis = tf.matmul(X, W) + b\n",
    "\n",
    "# Simplified cost/loss function\n",
    "cost = tf.reduce_mean(tf.square(hypothesis - Y))\n",
    "\n",
    "# Minimize\n",
    "optimizer = tf.train.GradientDescentOptimizer(learning_rate=1e-5)\n",
    "train = optimizer.minimize(cost)"
   ]
  },
  {
   "cell_type": "code",
   "execution_count": 10,
   "metadata": {},
   "outputs": [
    {
     "name": "stdout",
     "output_type": "stream",
     "text": [
      "0 Cost:  22656.0 \n",
      "Prediction:\n",
      " [[ 22.04806328]\n",
      " [ 21.61978722]\n",
      " [ 24.09669304]\n",
      " [ 22.29300499]\n",
      " [ 18.6339016 ]]\n",
      "1000 Cost:  4.18461 \n",
      "Prediction:\n",
      " [[ 154.8938446 ]\n",
      " [ 182.59112549]\n",
      " [ 182.02253723]\n",
      " [ 194.41615295]\n",
      " [ 141.61683655]]\n",
      "2000 Cost:  3.17888 \n",
      "Prediction:\n",
      " [[ 154.35929871]\n",
      " [ 182.95117188]\n",
      " [ 181.8505249 ]\n",
      " [ 194.35540771]\n",
      " [ 142.03565979]]\n",
      "3000 Cost:  2.56179 \n",
      "Prediction:\n",
      " [[ 153.94538879]\n",
      " [ 183.22859192]\n",
      " [ 181.71565247]\n",
      " [ 194.31999207]\n",
      " [ 142.34735107]]\n",
      "4000 Cost:  2.1722 \n",
      "Prediction:\n",
      " [[ 153.62367249]\n",
      " [ 183.44303894]\n",
      " [ 181.60920715]\n",
      " [ 194.30371094]\n",
      " [ 142.57759094]]\n",
      "5000 Cost:  1.91644 \n",
      "Prediction:\n",
      " [[ 153.37239075]\n",
      " [ 183.60932922]\n",
      " [ 181.52456665]\n",
      " [ 194.30172729]\n",
      " [ 142.74588013]]\n",
      "6000 Cost:  1.73985 \n",
      "Prediction:\n",
      " [[ 153.17492676]\n",
      " [ 183.73883057]\n",
      " [ 181.45654297]\n",
      " [ 194.31034851]\n",
      " [ 142.86706543]]\n",
      "7000 Cost:  1.61066 \n",
      "Prediction:\n",
      " [[ 153.01873779]\n",
      " [ 183.84020996]\n",
      " [ 181.40139771]\n",
      " [ 194.32695007]\n",
      " [ 142.95256042]]\n",
      "8000 Cost:  1.51029 \n",
      "Prediction:\n",
      " [[ 152.89407349]\n",
      " [ 183.92010498]\n",
      " [ 181.35606384]\n",
      " [ 194.34924316]\n",
      " [ 143.01094055]]\n",
      "9000 Cost:  1.42787 \n",
      "Prediction:\n",
      " [[ 152.79362488]\n",
      " [ 183.98353577]\n",
      " [ 181.31832886]\n",
      " [ 194.37573242]\n",
      " [ 143.04884338]]\n",
      "10000 Cost:  1.35703 \n",
      "Prediction:\n",
      " [[ 152.71174622]\n",
      " [ 184.03433228]\n",
      " [ 181.28643799]\n",
      " [ 194.40516663]\n",
      " [ 143.0712738 ]]\n"
     ]
    }
   ],
   "source": [
    "\n",
    "# Launch the graph in a session.\n",
    "sess = tf.Session()\n",
    "# Initializes global variables in the graph.\n",
    "sess.run(tf.global_variables_initializer())\n",
    "\n",
    "for step in range(10001):\n",
    "    cost_val, hy_val, _ = sess.run(\n",
    "        [cost, hypothesis, train], feed_dict={X: x_data, Y: y_data})\n",
    "    if step % 1000 == 0:\n",
    "        print(step, \"Cost: \", cost_val, \"\\nPrediction:\\n\", hy_val)"
   ]
  },
  {
   "cell_type": "code",
   "execution_count": 13,
   "metadata": {},
   "outputs": [
    {
     "name": "stdout",
     "output_type": "stream",
     "text": [
      "[[ 143.07128906]]\n"
     ]
    }
   ],
   "source": [
    "print(sess.run(hypothesis, feed_dict={X: [[73., 66., 70.]]}))"
   ]
  },
  {
   "cell_type": "code",
   "execution_count": null,
   "metadata": {
    "collapsed": true
   },
   "outputs": [],
   "source": []
  }
 ],
 "metadata": {
  "kernelspec": {
   "display_name": "Python 3",
   "language": "python",
   "name": "python3"
  },
  "language_info": {
   "codemirror_mode": {
    "name": "ipython",
    "version": 3
   },
   "file_extension": ".py",
   "mimetype": "text/x-python",
   "name": "python",
   "nbconvert_exporter": "python",
   "pygments_lexer": "ipython3",
   "version": "3.6.3"
  }
 },
 "nbformat": 4,
 "nbformat_minor": 2
}
