{
 "cells": [
  {
   "cell_type": "code",
   "execution_count": 2,
   "metadata": {
    "collapsed": true
   },
   "outputs": [],
   "source": [
    "import numpy as np\n",
    "\n",
    "# numpy 튜토리얼 http://ishuca.tistory.com/373"
   ]
  },
  {
   "cell_type": "code",
   "execution_count": 3,
   "metadata": {
    "collapsed": true
   },
   "outputs": [],
   "source": [
    "a = np.array([1, 2, 3])"
   ]
  },
  {
   "cell_type": "code",
   "execution_count": 4,
   "metadata": {},
   "outputs": [
    {
     "data": {
      "text/plain": [
       "array([1, 2, 3])"
      ]
     },
     "execution_count": 4,
     "metadata": {},
     "output_type": "execute_result"
    }
   ],
   "source": [
    "a"
   ]
  },
  {
   "cell_type": "code",
   "execution_count": 5,
   "metadata": {},
   "outputs": [
    {
     "name": "stdout",
     "output_type": "stream",
     "text": [
      "<class 'numpy.ndarray'>\n",
      "(3,)\n"
     ]
    }
   ],
   "source": [
    "print(type(a))  \n",
    "print(a.shape) "
   ]
  },
  {
   "cell_type": "code",
   "execution_count": 6,
   "metadata": {
    "collapsed": true
   },
   "outputs": [],
   "source": [
    "b = np.array([[1,2,3],[4,5,6]])"
   ]
  },
  {
   "cell_type": "code",
   "execution_count": 7,
   "metadata": {},
   "outputs": [
    {
     "data": {
      "text/plain": [
       "array([[1, 2, 3],\n",
       "       [4, 5, 6]])"
      ]
     },
     "execution_count": 7,
     "metadata": {},
     "output_type": "execute_result"
    }
   ],
   "source": [
    "b"
   ]
  },
  {
   "cell_type": "code",
   "execution_count": 9,
   "metadata": {},
   "outputs": [
    {
     "data": {
      "text/plain": [
       "array([[1, 2, 3]])"
      ]
     },
     "execution_count": 9,
     "metadata": {},
     "output_type": "execute_result"
    }
   ],
   "source": [
    "# 2차원 배열 일때 안에 것만 가져오기\n",
    "b[:1,:]"
   ]
  },
  {
   "cell_type": "code",
   "execution_count": 21,
   "metadata": {},
   "outputs": [
    {
     "data": {
      "text/plain": [
       "(2, 3)"
      ]
     },
     "execution_count": 21,
     "metadata": {},
     "output_type": "execute_result"
    }
   ],
   "source": [
    "b.shape"
   ]
  },
  {
   "cell_type": "code",
   "execution_count": 23,
   "metadata": {},
   "outputs": [
    {
     "data": {
      "text/plain": [
       "array([ 5080073.,  5395180.,  2993051., ...,  4428959.,  4500114.,\n",
       "        3628724.])"
      ]
     },
     "execution_count": 23,
     "metadata": {},
     "output_type": "execute_result"
    }
   ],
   "source": [
    "# 파일에서 곧바로 읽기\n",
    "# http://blog.naver.com/PostView.nhn?blogId=radii26omg&logNo=221051465120&parentCategoryNo=&categoryNo=25&viewDate=&isShowPopularPosts=true&from=search\n",
    "np.genfromtxt('./data/apply.dat', delimiter=',')"
   ]
  },
  {
   "cell_type": "code",
   "execution_count": 31,
   "metadata": {},
   "outputs": [
    {
     "data": {
      "text/plain": [
       "array([[ 1.,  1.],\n",
       "       [ 2.,  1.],\n",
       "       [ 3.,  1.],\n",
       "       [ 4.,  2.],\n",
       "       [ 4.,  2.],\n",
       "       [ 4.,  3.]])"
      ]
     },
     "execution_count": 31,
     "metadata": {},
     "output_type": "execute_result"
    }
   ],
   "source": [
    "np.genfromtxt('./data/new.txt', delimiter='\\t')"
   ]
  },
  {
   "cell_type": "code",
   "execution_count": 31,
   "metadata": {},
   "outputs": [
    {
     "data": {
      "text/plain": [
       "array([[ nan,  nan,  nan,  nan,  nan,  nan,  nan],\n",
       "       [ nan,   0.,   1.,   0.,   1.,   1.,   0.],\n",
       "       [ nan,   0.,   1.,   0.,   4.,   0.,   0.]])"
      ]
     },
     "execution_count": 31,
     "metadata": {},
     "output_type": "execute_result"
    }
   ],
   "source": [
    "np.genfromtxt('./data/github_commits.csv', delimiter=',')[:3]"
   ]
  },
  {
   "cell_type": "code",
   "execution_count": 32,
   "metadata": {},
   "outputs": [
    {
     "data": {
      "text/plain": [
       "array([[b'date', b'yjo2lee', b'chanha22', b'pixar0407', b'deyim',\n",
       "        b'Rocket-Hyun', b'chloejiwon'],\n",
       "       [b'2017-11-07', b'0', b'1', b'0', b'1', b'1', b'0'],\n",
       "       [b'2017-11-08', b'0', b'1', b'0', b'4', b'0', b'0']],\n",
       "      dtype='|S11')"
      ]
     },
     "execution_count": 32,
     "metadata": {},
     "output_type": "execute_result"
    }
   ],
   "source": [
    "np.genfromtxt('./data/github_commits.csv', delimiter=',', dtype=None)[:3]"
   ]
  },
  {
   "cell_type": "code",
   "execution_count": 30,
   "metadata": {},
   "outputs": [
    {
     "data": {
      "text/plain": [
       "array([[  0.,   1.,   0.,   1.,   1.,   0.],\n",
       "       [  0.,   1.,   0.,   4.,   0.,   0.],\n",
       "       [  4.,   0.,   4.,   1.,  42.,   0.],\n",
       "       [  0.,   1.,   1.,   3.,   1.,   0.],\n",
       "       [  1.,   0.,   2.,   3.,   5.,   0.],\n",
       "       [  1.,   1.,   1.,   1.,  11.,   1.],\n",
       "       [  1.,   0.,   3.,   3.,   6.,   3.],\n",
       "       [  1.,   0.,   4.,   4.,   1.,   2.],\n",
       "       [  1.,   1.,   3.,   4.,   4.,   0.],\n",
       "       [  1.,   1.,   1.,   4.,   5.,   5.],\n",
       "       [  1.,   1.,   1.,   3.,   6.,   1.],\n",
       "       [  0.,   0.,   1.,   1.,   1.,   1.],\n",
       "       [  3.,   2.,   2.,   1.,   5.,   0.],\n",
       "       [  1.,   0.,   1.,   1.,   6.,   1.],\n",
       "       [  1.,   0.,   2.,   2.,   4.,   4.],\n",
       "       [  1.,   0.,   3.,   3.,   0.,   1.],\n",
       "       [  0.,   3.,   3.,   4.,  25.,   2.],\n",
       "       [  1.,   2.,   1.,   1.,  49.,   0.],\n",
       "       [  1.,   5.,   0.,   2.,   2.,   0.],\n",
       "       [  1.,   2.,   1.,   1.,   1.,   2.],\n",
       "       [  0.,  12.,   1.,   2.,   0.,   3.],\n",
       "       [  1.,   5.,   0.,   2.,   9.,   5.],\n",
       "       [  1.,   1.,   1.,   2.,   0.,   0.],\n",
       "       [  3.,   0.,   0.,   2.,   0.,   3.],\n",
       "       [  2.,   2.,   4.,   1.,   2.,   0.],\n",
       "       [  4.,   2.,   1.,   2.,   1.,   1.],\n",
       "       [  1.,   1.,   4.,   3.,   1.,   0.],\n",
       "       [  1.,   3.,   1.,   1.,   3.,   1.],\n",
       "       [  1.,   2.,   1.,   1.,   1.,   3.],\n",
       "       [  1.,   0.,   4.,   1.,   7.,   2.],\n",
       "       [  0.,   0.,   4.,   1.,   2.,   3.],\n",
       "       [  1.,   0.,   1.,   1.,   1.,   0.],\n",
       "       [  1.,   2.,   1.,   1.,   7.,   1.],\n",
       "       [  1.,   0.,   1.,   1.,   4.,   0.],\n",
       "       [  2.,   0.,   1.,   3.,   7.,   3.],\n",
       "       [  1.,   0.,   0.,   1.,   1.,   1.],\n",
       "       [  1.,   1.,   1.,   1.,   1.,   0.],\n",
       "       [  1.,   0.,   2.,   1.,   0.,   1.],\n",
       "       [  1.,   0.,   4.,   1.,   2.,   1.]])"
      ]
     },
     "execution_count": 30,
     "metadata": {},
     "output_type": "execute_result"
    }
   ],
   "source": [
    "np.genfromtxt('./data/github_commits.csv', delimiter=',')[1:,1:]"
   ]
  },
  {
   "cell_type": "code",
   "execution_count": 19,
   "metadata": {},
   "outputs": [
    {
     "name": "stdout",
     "output_type": "stream",
     "text": [
      "['date,yjo2lee,chanha22,pixar0407,deyim,Rocket-Hyun,chloejiwon\\n', '2017-11-07,0,1,0,1,1,0\\n', '2017-11-08,0,1,0,4,0,0\\n', '2017-11-09,4,0,4,1,42,0\\n', '2017-11-10,0,1,1,3,1,0\\n', '2017-11-11,1,0,2,3,5,0\\n', '2017-11-12,1,1,1,1,11,1\\n', '2017-11-13,1,0,3,3,6,3\\n', '2017-11-14,1,0,4,4,1,2\\n', '2017-11-15,1,1,3,4,4,0\\n', '2017-11-16,1,1,1,4,5,5\\n', '2017-11-17,1,1,1,3,6,1\\n', '2017-11-18,0,0,1,1,1,1\\n', '2017-11-19,3,2,2,1,5,0\\n', '2017-11-20,1,0,1,1,6,1\\n', '2017-11-21,1,0,2,2,4,4\\n', '2017-11-22,1,0,3,3,0,1\\n', '2017-11-23,0,3,3,4,25,2\\n', '2017-11-24,1,2,1,1,49,0\\n', '2017-11-25,1,5,0,2,2,0\\n', '2017-11-26,1,2,1,1,1,2\\n', '2017-11-27,0,12,1,2,0,3\\n', '2017-11-28,1,5,0,2,9,5\\n', '2017-11-29,1,1,1,2,0,0\\n', '2017-11-30,3,0,0,2,0,3\\n', '2017-12-01,2,2,4,1,2,0\\n', '2017-12-02,4,2,1,2,1,1\\n', '2017-12-03,1,1,4,3,1,0\\n', '2017-12-04,1,3,1,1,3,1\\n', '2017-12-05,1,2,1,1,1,3\\n', '2017-12-06,1,0,4,1,7,2\\n', '2017-12-07,0,0,4,1,2,3\\n', '2017-12-08,1,0,1,1,1,0\\n', '2017-12-09,1,2,1,1,7,1\\n', '2017-12-10,1,0,1,1,4,0\\n', '2017-12-11,2,0,1,3,7,3\\n', '2017-12-12,1,0,0,1,1,1\\n', '2017-12-13,1,1,1,1,1,0\\n', '2017-12-14,1,0,2,1,0,1\\n', '2017-12-15,1,0,4,1,2,1\\n']\n"
     ]
    }
   ],
   "source": [
    "# string으로 읽은 후 numpy로 읽기\n",
    "fileName=\"./data/github_commits.csv\"\n",
    "# with open(fileName, \"r\", encoding=\"utf8\") as f:\n",
    "#     text = f.readlines()\n",
    "# print(text)\n",
    "textFile = open(fileName, \"r\", encoding=\"utf8\")\n",
    "text = textFile.readlines()\n",
    "print(text)"
   ]
  },
  {
   "cell_type": "code",
   "execution_count": null,
   "metadata": {
    "collapsed": true
   },
   "outputs": [],
   "source": [
    "\n",
    "textlist = textFile.read().split(\"\\n\")\n",
    "textlist_range = textlist[1:len(textlist)-1]\n",
    "# textlist_range[0].split(\",\")[1:]\n",
    "# textnumpy = np.empty(6)\n",
    "# numpy2 = np.empty(6)\n",
    "# textnumpy\n",
    "# np.concatenate(textnumpy,numpy2)\n",
    "# for i in textlist_range:\n",
    "#     np.append(textnumpy,i.split(\",\")[1:])\n",
    "    \n",
    "# textnumpy\n",
    "#np.asarray(textFile.read().split(\"\\n\"))\n",
    "\n",
    "#text = np.asarray(textFile.readlines())\n",
    "#text"
   ]
  }
 ],
 "metadata": {
  "kernelspec": {
   "display_name": "Python 3",
   "language": "python",
   "name": "python3"
  },
  "language_info": {
   "codemirror_mode": {
    "name": "ipython",
    "version": 3
   },
   "file_extension": ".py",
   "mimetype": "text/x-python",
   "name": "python",
   "nbconvert_exporter": "python",
   "pygments_lexer": "ipython3",
   "version": "3.6.3"
  }
 },
 "nbformat": 4,
 "nbformat_minor": 2
}
