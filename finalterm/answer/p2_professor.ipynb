{
 "cells": [
  {
   "cell_type": "code",
   "execution_count": 1,
   "metadata": {},
   "outputs": [
    {
     "data": {
      "text/plain": [
       "<matplotlib.figure.Figure at 0x2320b90b518>"
      ]
     },
     "execution_count": 1,
     "metadata": {},
     "output_type": "execute_result"
    },
    {
     "data": {
      "text/plain": [
       "<matplotlib.figure.Figure at 0x2320b90b518>"
      ]
     },
     "metadata": {},
     "output_type": "display_data"
    }
   ],
   "source": [
    "%matplotlib inline\n",
    "import pandas as pd\n",
    "import numpy as np\n",
    "import os\n",
    "import matplotlib.pyplot as plt\n",
    "\n",
    "os.chdir('C:/exam')\n",
    "df = pd.read_csv('temp.log')\n",
    "\n",
    "plt.figure()"
   ]
  },
  {
   "cell_type": "code",
   "execution_count": 2,
   "metadata": {},
   "outputs": [
    {
     "data": {
      "text/html": [
       "<div>\n",
       "<style>\n",
       "    .dataframe thead tr:only-child th {\n",
       "        text-align: right;\n",
       "    }\n",
       "\n",
       "    .dataframe thead th {\n",
       "        text-align: left;\n",
       "    }\n",
       "\n",
       "    .dataframe tbody tr th {\n",
       "        vertical-align: top;\n",
       "    }\n",
       "</style>\n",
       "<table border=\"1\" class=\"dataframe\">\n",
       "  <thead>\n",
       "    <tr style=\"text-align: right;\">\n",
       "      <th></th>\n",
       "      <th>x</th>\n",
       "      <th>seqx</th>\n",
       "      <th>1T</th>\n",
       "      <th>2T</th>\n",
       "      <th>3T</th>\n",
       "      <th>4T</th>\n",
       "      <th>5T</th>\n",
       "      <th>6T</th>\n",
       "      <th>7T</th>\n",
       "      <th>8T</th>\n",
       "      <th>...</th>\n",
       "      <th>37T</th>\n",
       "      <th>38T</th>\n",
       "      <th>39T</th>\n",
       "      <th>40T</th>\n",
       "      <th>41T</th>\n",
       "      <th>42T</th>\n",
       "      <th>43T</th>\n",
       "      <th>44T</th>\n",
       "      <th>45T</th>\n",
       "      <th>n</th>\n",
       "    </tr>\n",
       "  </thead>\n",
       "  <tbody>\n",
       "    <tr>\n",
       "      <th>0</th>\n",
       "      <td>[Seq:</td>\n",
       "      <td>66]</td>\n",
       "      <td>20.93</td>\n",
       "      <td>20.75</td>\n",
       "      <td>20.12</td>\n",
       "      <td>20.75</td>\n",
       "      <td>20.37</td>\n",
       "      <td>21.00</td>\n",
       "      <td>20.81</td>\n",
       "      <td>20.43</td>\n",
       "      <td>...</td>\n",
       "      <td>20.93</td>\n",
       "      <td>20.43</td>\n",
       "      <td>21.06</td>\n",
       "      <td>20.87</td>\n",
       "      <td>20.93</td>\n",
       "      <td>20.93</td>\n",
       "      <td>20.93</td>\n",
       "      <td>20.50</td>\n",
       "      <td>20.68</td>\n",
       "      <td>(45)</td>\n",
       "    </tr>\n",
       "    <tr>\n",
       "      <th>1</th>\n",
       "      <td>[Seq:</td>\n",
       "      <td>67]</td>\n",
       "      <td>20.87</td>\n",
       "      <td>20.68</td>\n",
       "      <td>20.06</td>\n",
       "      <td>20.68</td>\n",
       "      <td>20.37</td>\n",
       "      <td>20.93</td>\n",
       "      <td>20.75</td>\n",
       "      <td>20.37</td>\n",
       "      <td>...</td>\n",
       "      <td>20.93</td>\n",
       "      <td>20.50</td>\n",
       "      <td>21.06</td>\n",
       "      <td>20.93</td>\n",
       "      <td>21.06</td>\n",
       "      <td>20.87</td>\n",
       "      <td>20.93</td>\n",
       "      <td>20.56</td>\n",
       "      <td>20.68</td>\n",
       "      <td>(45)</td>\n",
       "    </tr>\n",
       "    <tr>\n",
       "      <th>2</th>\n",
       "      <td>[Seq:</td>\n",
       "      <td>68]</td>\n",
       "      <td>20.87</td>\n",
       "      <td>20.68</td>\n",
       "      <td>20.12</td>\n",
       "      <td>20.68</td>\n",
       "      <td>20.43</td>\n",
       "      <td>21.00</td>\n",
       "      <td>20.81</td>\n",
       "      <td>20.43</td>\n",
       "      <td>...</td>\n",
       "      <td>20.93</td>\n",
       "      <td>20.43</td>\n",
       "      <td>21.06</td>\n",
       "      <td>20.87</td>\n",
       "      <td>21.12</td>\n",
       "      <td>20.87</td>\n",
       "      <td>20.93</td>\n",
       "      <td>20.56</td>\n",
       "      <td>20.68</td>\n",
       "      <td>(45)</td>\n",
       "    </tr>\n",
       "    <tr>\n",
       "      <th>3</th>\n",
       "      <td>[Seq:</td>\n",
       "      <td>69]</td>\n",
       "      <td>20.93</td>\n",
       "      <td>20.68</td>\n",
       "      <td>20.12</td>\n",
       "      <td>20.68</td>\n",
       "      <td>20.37</td>\n",
       "      <td>21.00</td>\n",
       "      <td>20.81</td>\n",
       "      <td>20.43</td>\n",
       "      <td>...</td>\n",
       "      <td>20.93</td>\n",
       "      <td>20.43</td>\n",
       "      <td>21.06</td>\n",
       "      <td>20.93</td>\n",
       "      <td>21.18</td>\n",
       "      <td>20.87</td>\n",
       "      <td>20.93</td>\n",
       "      <td>20.50</td>\n",
       "      <td>20.68</td>\n",
       "      <td>(45)</td>\n",
       "    </tr>\n",
       "    <tr>\n",
       "      <th>4</th>\n",
       "      <td>[Seq:</td>\n",
       "      <td>70]</td>\n",
       "      <td>20.93</td>\n",
       "      <td>20.68</td>\n",
       "      <td>20.12</td>\n",
       "      <td>20.68</td>\n",
       "      <td>20.43</td>\n",
       "      <td>21.00</td>\n",
       "      <td>20.75</td>\n",
       "      <td>20.50</td>\n",
       "      <td>...</td>\n",
       "      <td>20.93</td>\n",
       "      <td>20.43</td>\n",
       "      <td>21.06</td>\n",
       "      <td>20.93</td>\n",
       "      <td>21.18</td>\n",
       "      <td>20.87</td>\n",
       "      <td>20.93</td>\n",
       "      <td>20.50</td>\n",
       "      <td>20.68</td>\n",
       "      <td>(45)</td>\n",
       "    </tr>\n",
       "  </tbody>\n",
       "</table>\n",
       "<p>5 rows × 48 columns</p>\n",
       "</div>"
      ],
      "text/plain": [
       "       x seqx     1T     2T     3T     4T     5T     6T     7T     8T  ...   \\\n",
       "0  [Seq:  66]  20.93  20.75  20.12  20.75  20.37  21.00  20.81  20.43  ...    \n",
       "1  [Seq:  67]  20.87  20.68  20.06  20.68  20.37  20.93  20.75  20.37  ...    \n",
       "2  [Seq:  68]  20.87  20.68  20.12  20.68  20.43  21.00  20.81  20.43  ...    \n",
       "3  [Seq:  69]  20.93  20.68  20.12  20.68  20.37  21.00  20.81  20.43  ...    \n",
       "4  [Seq:  70]  20.93  20.68  20.12  20.68  20.43  21.00  20.75  20.50  ...    \n",
       "\n",
       "     37T    38T    39T    40T    41T    42T    43T    44T    45T     n  \n",
       "0  20.93  20.43  21.06  20.87  20.93  20.93  20.93  20.50  20.68  (45)  \n",
       "1  20.93  20.50  21.06  20.93  21.06  20.87  20.93  20.56  20.68  (45)  \n",
       "2  20.93  20.43  21.06  20.87  21.12  20.87  20.93  20.56  20.68  (45)  \n",
       "3  20.93  20.43  21.06  20.93  21.18  20.87  20.93  20.50  20.68  (45)  \n",
       "4  20.93  20.43  21.06  20.93  21.18  20.87  20.93  20.50  20.68  (45)  \n",
       "\n",
       "[5 rows x 48 columns]"
      ]
     },
     "execution_count": 2,
     "metadata": {},
     "output_type": "execute_result"
    }
   ],
   "source": [
    "df[0:5]"
   ]
  },
  {
   "cell_type": "code",
   "execution_count": 3,
   "metadata": {},
   "outputs": [
    {
     "data": {
      "text/plain": [
       "0    20.726667\n",
       "1    20.725111\n",
       "2    20.734222\n",
       "3    20.732889\n",
       "4    20.747333\n",
       "dtype: float64"
      ]
     },
     "execution_count": 3,
     "metadata": {},
     "output_type": "execute_result"
    },
    {
     "data": {
      "image/png": "[encoded data removed]",
      "text/plain": [
       "<matplotlib.figure.Figure at 0x2320ed8cf28>"
      ]
     },
     "metadata": {},
     "output_type": "display_data"
    }
   ],
   "source": [
    "# T1 ~ T45의 평균값을 구하여 Seq를 X축으로 하는 그래프를 그리시오\n",
    "g = df.mean(axis=1).plot(title=\"Temperature\")\n",
    "g.set_xlabel(\"sequence\")\n",
    "g.set_ylabel(\"celcius\")\n",
    "df.mean(axis=1)[0:5]"
   ]
  },
  {
   "cell_type": "code",
   "execution_count": 4,
   "metadata": {},
   "outputs": [
    {
     "data": {
      "text/plain": [
       "0    20.726667\n",
       "1    20.725111\n",
       "2    20.734222\n",
       "3    20.732889\n",
       "4    20.747333\n",
       "dtype: float64"
      ]
     },
     "execution_count": 4,
     "metadata": {},
     "output_type": "execute_result"
    },
    {
     "data": {
      "image/png": "[encoded data removed]",
      "text/plain": [
       "<matplotlib.figure.Figure at 0x2320b8ecf60>"
      ]
     },
     "metadata": {},
     "output_type": "display_data"
    }
   ],
   "source": [
    "# T1 ~ T45의 중간값(50% percentile)을 구하여 Seq를 X축으로 하는 그래프를 그리시오\n",
    "g = df.quantile(q=0.5, axis=1).plot(title=\"Temperature\")\n",
    "g.set_xlabel(\"sequence\")\n",
    "g.set_ylabel(\"celcius\")\n",
    "df.mean(axis=1)[0:5]"
   ]
  },
  {
   "cell_type": "code",
   "execution_count": 5,
   "metadata": {},
   "outputs": [
    {
     "data": {
      "text/plain": [
       "<matplotlib.axes._subplots.AxesSubplot at 0x2320ef09240>"
      ]
     },
     "execution_count": 5,
     "metadata": {},
     "output_type": "execute_result"
    },
    {
     "data": {
      "image/png": "[encoded data removed]",
      "text/plain": [
       "<matplotlib.figure.Figure at 0x2320ef1e400>"
      ]
     },
     "metadata": {},
     "output_type": "display_data"
    }
   ],
   "source": [
    "df['mean'] = df.mean(axis=1).round(2)\n",
    "df['middle'] = df.quantile(q=0.5, axis=1)\n",
    "df[['mean', 'middle']].plot()"
   ]
  },
  {
   "cell_type": "code",
   "execution_count": 6,
   "metadata": {},
   "outputs": [
    {
     "data": {
      "text/plain": [
       "<matplotlib.axes._subplots.AxesSubplot at 0x2320ef52860>"
      ]
     },
     "execution_count": 6,
     "metadata": {},
     "output_type": "execute_result"
    },
    {
     "data": {
      "image/png": "[encoded data removed]",
      "text/plain": [
       "<matplotlib.figure.Figure at 0x2320ef62080>"
      ]
     },
     "metadata": {},
     "output_type": "display_data"
    }
   ],
   "source": [
    "df['diff'] = df['mean']- df['middle']\n",
    "df['diff'].plot()\n"
   ]
  },
  {
   "cell_type": "code",
   "execution_count": 7,
   "metadata": {},
   "outputs": [
    {
     "data": {
      "text/html": [
       "<div>\n",
       "<style>\n",
       "    .dataframe thead tr:only-child th {\n",
       "        text-align: right;\n",
       "    }\n",
       "\n",
       "    .dataframe thead th {\n",
       "        text-align: left;\n",
       "    }\n",
       "\n",
       "    .dataframe tbody tr th {\n",
       "        vertical-align: top;\n",
       "    }\n",
       "</style>\n",
       "<table border=\"1\" class=\"dataframe\">\n",
       "  <thead>\n",
       "    <tr style=\"text-align: right;\">\n",
       "      <th></th>\n",
       "      <th>x</th>\n",
       "      <th>seqx</th>\n",
       "      <th>1T</th>\n",
       "      <th>2T</th>\n",
       "      <th>3T</th>\n",
       "      <th>4T</th>\n",
       "      <th>5T</th>\n",
       "      <th>6T</th>\n",
       "      <th>7T</th>\n",
       "      <th>8T</th>\n",
       "      <th>...</th>\n",
       "      <th>40T</th>\n",
       "      <th>41T</th>\n",
       "      <th>42T</th>\n",
       "      <th>43T</th>\n",
       "      <th>44T</th>\n",
       "      <th>45T</th>\n",
       "      <th>n</th>\n",
       "      <th>mean</th>\n",
       "      <th>middle</th>\n",
       "      <th>diff</th>\n",
       "    </tr>\n",
       "  </thead>\n",
       "  <tbody>\n",
       "    <tr>\n",
       "      <th>0</th>\n",
       "      <td>[Seq:</td>\n",
       "      <td>66]</td>\n",
       "      <td>20.93</td>\n",
       "      <td>20.75</td>\n",
       "      <td>20.12</td>\n",
       "      <td>20.75</td>\n",
       "      <td>20.37</td>\n",
       "      <td>21.00</td>\n",
       "      <td>20.81</td>\n",
       "      <td>20.43</td>\n",
       "      <td>...</td>\n",
       "      <td>20.87</td>\n",
       "      <td>20.93</td>\n",
       "      <td>20.93</td>\n",
       "      <td>20.93</td>\n",
       "      <td>20.50</td>\n",
       "      <td>20.68</td>\n",
       "      <td>(45)</td>\n",
       "      <td>20.73</td>\n",
       "      <td>20.81</td>\n",
       "      <td>-0.08</td>\n",
       "    </tr>\n",
       "    <tr>\n",
       "      <th>1</th>\n",
       "      <td>[Seq:</td>\n",
       "      <td>67]</td>\n",
       "      <td>20.87</td>\n",
       "      <td>20.68</td>\n",
       "      <td>20.06</td>\n",
       "      <td>20.68</td>\n",
       "      <td>20.37</td>\n",
       "      <td>20.93</td>\n",
       "      <td>20.75</td>\n",
       "      <td>20.37</td>\n",
       "      <td>...</td>\n",
       "      <td>20.93</td>\n",
       "      <td>21.06</td>\n",
       "      <td>20.87</td>\n",
       "      <td>20.93</td>\n",
       "      <td>20.56</td>\n",
       "      <td>20.68</td>\n",
       "      <td>(45)</td>\n",
       "      <td>20.73</td>\n",
       "      <td>20.78</td>\n",
       "      <td>-0.05</td>\n",
       "    </tr>\n",
       "    <tr>\n",
       "      <th>2</th>\n",
       "      <td>[Seq:</td>\n",
       "      <td>68]</td>\n",
       "      <td>20.87</td>\n",
       "      <td>20.68</td>\n",
       "      <td>20.12</td>\n",
       "      <td>20.68</td>\n",
       "      <td>20.43</td>\n",
       "      <td>21.00</td>\n",
       "      <td>20.81</td>\n",
       "      <td>20.43</td>\n",
       "      <td>...</td>\n",
       "      <td>20.87</td>\n",
       "      <td>21.12</td>\n",
       "      <td>20.87</td>\n",
       "      <td>20.93</td>\n",
       "      <td>20.56</td>\n",
       "      <td>20.68</td>\n",
       "      <td>(45)</td>\n",
       "      <td>20.73</td>\n",
       "      <td>20.81</td>\n",
       "      <td>-0.08</td>\n",
       "    </tr>\n",
       "    <tr>\n",
       "      <th>3</th>\n",
       "      <td>[Seq:</td>\n",
       "      <td>69]</td>\n",
       "      <td>20.93</td>\n",
       "      <td>20.68</td>\n",
       "      <td>20.12</td>\n",
       "      <td>20.68</td>\n",
       "      <td>20.37</td>\n",
       "      <td>21.00</td>\n",
       "      <td>20.81</td>\n",
       "      <td>20.43</td>\n",
       "      <td>...</td>\n",
       "      <td>20.93</td>\n",
       "      <td>21.18</td>\n",
       "      <td>20.87</td>\n",
       "      <td>20.93</td>\n",
       "      <td>20.50</td>\n",
       "      <td>20.68</td>\n",
       "      <td>(45)</td>\n",
       "      <td>20.73</td>\n",
       "      <td>20.81</td>\n",
       "      <td>-0.08</td>\n",
       "    </tr>\n",
       "    <tr>\n",
       "      <th>4</th>\n",
       "      <td>[Seq:</td>\n",
       "      <td>70]</td>\n",
       "      <td>20.93</td>\n",
       "      <td>20.68</td>\n",
       "      <td>20.12</td>\n",
       "      <td>20.68</td>\n",
       "      <td>20.43</td>\n",
       "      <td>21.00</td>\n",
       "      <td>20.75</td>\n",
       "      <td>20.50</td>\n",
       "      <td>...</td>\n",
       "      <td>20.93</td>\n",
       "      <td>21.18</td>\n",
       "      <td>20.87</td>\n",
       "      <td>20.93</td>\n",
       "      <td>20.50</td>\n",
       "      <td>20.68</td>\n",
       "      <td>(45)</td>\n",
       "      <td>20.75</td>\n",
       "      <td>20.81</td>\n",
       "      <td>-0.06</td>\n",
       "    </tr>\n",
       "  </tbody>\n",
       "</table>\n",
       "<p>5 rows × 51 columns</p>\n",
       "</div>"
      ],
      "text/plain": [
       "       x seqx     1T     2T     3T     4T     5T     6T     7T     8T  ...   \\\n",
       "0  [Seq:  66]  20.93  20.75  20.12  20.75  20.37  21.00  20.81  20.43  ...    \n",
       "1  [Seq:  67]  20.87  20.68  20.06  20.68  20.37  20.93  20.75  20.37  ...    \n",
       "2  [Seq:  68]  20.87  20.68  20.12  20.68  20.43  21.00  20.81  20.43  ...    \n",
       "3  [Seq:  69]  20.93  20.68  20.12  20.68  20.37  21.00  20.81  20.43  ...    \n",
       "4  [Seq:  70]  20.93  20.68  20.12  20.68  20.43  21.00  20.75  20.50  ...    \n",
       "\n",
       "     40T    41T    42T    43T    44T    45T     n   mean  middle  diff  \n",
       "0  20.87  20.93  20.93  20.93  20.50  20.68  (45)  20.73   20.81 -0.08  \n",
       "1  20.93  21.06  20.87  20.93  20.56  20.68  (45)  20.73   20.78 -0.05  \n",
       "2  20.87  21.12  20.87  20.93  20.56  20.68  (45)  20.73   20.81 -0.08  \n",
       "3  20.93  21.18  20.87  20.93  20.50  20.68  (45)  20.73   20.81 -0.08  \n",
       "4  20.93  21.18  20.87  20.93  20.50  20.68  (45)  20.75   20.81 -0.06  \n",
       "\n",
       "[5 rows x 51 columns]"
      ]
     },
     "execution_count": 7,
     "metadata": {},
     "output_type": "execute_result"
    }
   ],
   "source": [
    "df[0:5]"
   ]
  },
  {
   "cell_type": "code",
   "execution_count": null,
   "metadata": {
    "collapsed": true
   },
   "outputs": [],
   "source": []
  }
 ],
 "metadata": {
  "kernelspec": {
   "display_name": "Python 3",
   "language": "python",
   "name": "python3"
  },
  "language_info": {
   "codemirror_mode": {
    "name": "ipython",
    "version": 3
   },
   "file_extension": ".py",
   "mimetype": "text/x-python",
   "name": "python",
   "nbconvert_exporter": "python",
   "pygments_lexer": "ipython3",
   "version": "3.6.1"
  }
 },
 "nbformat": 4,
 "nbformat_minor": 2
}
