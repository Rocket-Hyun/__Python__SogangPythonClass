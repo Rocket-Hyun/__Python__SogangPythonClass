{
 "cells": [
  {
   "cell_type": "code",
   "execution_count": 92,
   "metadata": {
    "collapsed": true
   },
   "outputs": [],
   "source": [
    "import os\n",
    "import pandas as pd\n",
    "import matplotlib.pyplot as plt"
   ]
  },
  {
   "cell_type": "code",
   "execution_count": 93,
   "metadata": {},
   "outputs": [],
   "source": [
    "os.chdir('c:/exam')"
   ]
  },
  {
   "cell_type": "code",
   "execution_count": 94,
   "metadata": {},
   "outputs": [],
   "source": [
    "commits_df = pd.read_csv('temp.log')"
   ]
  },
  {
   "cell_type": "code",
   "execution_count": 95,
   "metadata": {},
   "outputs": [
    {
     "data": {
      "text/html": [
       "<div>\n",
       "<style>\n",
       "    .dataframe thead tr:only-child th {\n",
       "        text-align: right;\n",
       "    }\n",
       "\n",
       "    .dataframe thead th {\n",
       "        text-align: left;\n",
       "    }\n",
       "\n",
       "    .dataframe tbody tr th {\n",
       "        vertical-align: top;\n",
       "    }\n",
       "</style>\n",
       "<table border=\"1\" class=\"dataframe\">\n",
       "  <thead>\n",
       "    <tr style=\"text-align: right;\">\n",
       "      <th></th>\n",
       "      <th>x</th>\n",
       "      <th>seqx</th>\n",
       "      <th>1T</th>\n",
       "      <th>2T</th>\n",
       "      <th>3T</th>\n",
       "      <th>4T</th>\n",
       "      <th>5T</th>\n",
       "      <th>6T</th>\n",
       "      <th>7T</th>\n",
       "      <th>8T</th>\n",
       "      <th>...</th>\n",
       "      <th>37T</th>\n",
       "      <th>38T</th>\n",
       "      <th>39T</th>\n",
       "      <th>40T</th>\n",
       "      <th>41T</th>\n",
       "      <th>42T</th>\n",
       "      <th>43T</th>\n",
       "      <th>44T</th>\n",
       "      <th>45T</th>\n",
       "      <th>n</th>\n",
       "    </tr>\n",
       "  </thead>\n",
       "  <tbody>\n",
       "    <tr>\n",
       "      <th>0</th>\n",
       "      <td>[Seq:</td>\n",
       "      <td>66]</td>\n",
       "      <td>20.93</td>\n",
       "      <td>20.75</td>\n",
       "      <td>20.12</td>\n",
       "      <td>20.75</td>\n",
       "      <td>20.37</td>\n",
       "      <td>21.00</td>\n",
       "      <td>20.81</td>\n",
       "      <td>20.43</td>\n",
       "      <td>...</td>\n",
       "      <td>20.93</td>\n",
       "      <td>20.43</td>\n",
       "      <td>21.06</td>\n",
       "      <td>20.87</td>\n",
       "      <td>20.93</td>\n",
       "      <td>20.93</td>\n",
       "      <td>20.93</td>\n",
       "      <td>20.50</td>\n",
       "      <td>20.68</td>\n",
       "      <td>(45)</td>\n",
       "    </tr>\n",
       "    <tr>\n",
       "      <th>1</th>\n",
       "      <td>[Seq:</td>\n",
       "      <td>67]</td>\n",
       "      <td>20.87</td>\n",
       "      <td>20.68</td>\n",
       "      <td>20.06</td>\n",
       "      <td>20.68</td>\n",
       "      <td>20.37</td>\n",
       "      <td>20.93</td>\n",
       "      <td>20.75</td>\n",
       "      <td>20.37</td>\n",
       "      <td>...</td>\n",
       "      <td>20.93</td>\n",
       "      <td>20.50</td>\n",
       "      <td>21.06</td>\n",
       "      <td>20.93</td>\n",
       "      <td>21.06</td>\n",
       "      <td>20.87</td>\n",
       "      <td>20.93</td>\n",
       "      <td>20.56</td>\n",
       "      <td>20.68</td>\n",
       "      <td>(45)</td>\n",
       "    </tr>\n",
       "    <tr>\n",
       "      <th>2</th>\n",
       "      <td>[Seq:</td>\n",
       "      <td>68]</td>\n",
       "      <td>20.87</td>\n",
       "      <td>20.68</td>\n",
       "      <td>20.12</td>\n",
       "      <td>20.68</td>\n",
       "      <td>20.43</td>\n",
       "      <td>21.00</td>\n",
       "      <td>20.81</td>\n",
       "      <td>20.43</td>\n",
       "      <td>...</td>\n",
       "      <td>20.93</td>\n",
       "      <td>20.43</td>\n",
       "      <td>21.06</td>\n",
       "      <td>20.87</td>\n",
       "      <td>21.12</td>\n",
       "      <td>20.87</td>\n",
       "      <td>20.93</td>\n",
       "      <td>20.56</td>\n",
       "      <td>20.68</td>\n",
       "      <td>(45)</td>\n",
       "    </tr>\n",
       "    <tr>\n",
       "      <th>3</th>\n",
       "      <td>[Seq:</td>\n",
       "      <td>69]</td>\n",
       "      <td>20.93</td>\n",
       "      <td>20.68</td>\n",
       "      <td>20.12</td>\n",
       "      <td>20.68</td>\n",
       "      <td>20.37</td>\n",
       "      <td>21.00</td>\n",
       "      <td>20.81</td>\n",
       "      <td>20.43</td>\n",
       "      <td>...</td>\n",
       "      <td>20.93</td>\n",
       "      <td>20.43</td>\n",
       "      <td>21.06</td>\n",
       "      <td>20.93</td>\n",
       "      <td>21.18</td>\n",
       "      <td>20.87</td>\n",
       "      <td>20.93</td>\n",
       "      <td>20.50</td>\n",
       "      <td>20.68</td>\n",
       "      <td>(45)</td>\n",
       "    </tr>\n",
       "    <tr>\n",
       "      <th>4</th>\n",
       "      <td>[Seq:</td>\n",
       "      <td>70]</td>\n",
       "      <td>20.93</td>\n",
       "      <td>20.68</td>\n",
       "      <td>20.12</td>\n",
       "      <td>20.68</td>\n",
       "      <td>20.43</td>\n",
       "      <td>21.00</td>\n",
       "      <td>20.75</td>\n",
       "      <td>20.50</td>\n",
       "      <td>...</td>\n",
       "      <td>20.93</td>\n",
       "      <td>20.43</td>\n",
       "      <td>21.06</td>\n",
       "      <td>20.93</td>\n",
       "      <td>21.18</td>\n",
       "      <td>20.87</td>\n",
       "      <td>20.93</td>\n",
       "      <td>20.50</td>\n",
       "      <td>20.68</td>\n",
       "      <td>(45)</td>\n",
       "    </tr>\n",
       "  </tbody>\n",
       "</table>\n",
       "<p>5 rows × 48 columns</p>\n",
       "</div>"
      ],
      "text/plain": [
       "       x seqx     1T     2T     3T     4T     5T     6T     7T     8T  ...   \\\n",
       "0  [Seq:  66]  20.93  20.75  20.12  20.75  20.37  21.00  20.81  20.43  ...    \n",
       "1  [Seq:  67]  20.87  20.68  20.06  20.68  20.37  20.93  20.75  20.37  ...    \n",
       "2  [Seq:  68]  20.87  20.68  20.12  20.68  20.43  21.00  20.81  20.43  ...    \n",
       "3  [Seq:  69]  20.93  20.68  20.12  20.68  20.37  21.00  20.81  20.43  ...    \n",
       "4  [Seq:  70]  20.93  20.68  20.12  20.68  20.43  21.00  20.75  20.50  ...    \n",
       "\n",
       "     37T    38T    39T    40T    41T    42T    43T    44T    45T     n  \n",
       "0  20.93  20.43  21.06  20.87  20.93  20.93  20.93  20.50  20.68  (45)  \n",
       "1  20.93  20.50  21.06  20.93  21.06  20.87  20.93  20.56  20.68  (45)  \n",
       "2  20.93  20.43  21.06  20.87  21.12  20.87  20.93  20.56  20.68  (45)  \n",
       "3  20.93  20.43  21.06  20.93  21.18  20.87  20.93  20.50  20.68  (45)  \n",
       "4  20.93  20.43  21.06  20.93  21.18  20.87  20.93  20.50  20.68  (45)  \n",
       "\n",
       "[5 rows x 48 columns]"
      ]
     },
     "execution_count": 95,
     "metadata": {},
     "output_type": "execute_result"
    }
   ],
   "source": [
    "commits_df[:5]"
   ]
  },
  {
   "cell_type": "code",
   "execution_count": 96,
   "metadata": {},
   "outputs": [
    {
     "data": {
      "image/png": "[encoded data removed]",
      "text/plain": [
       "<matplotlib.figure.Figure at 0x1c96d228eb8>"
      ]
     },
     "metadata": {},
     "output_type": "display_data"
    }
   ],
   "source": [
    "plt.plot(commits_df[commits_df.columns[2:len(commits_df.columns)-1]].mean(axis=1))\n",
    "plt.title('Temperature')\n",
    "plt.ylabel('celsius')\n",
    "plt.xlabel('sequence')\n",
    "plt.show()"
   ]
  },
  {
   "cell_type": "code",
   "execution_count": 97,
   "metadata": {},
   "outputs": [
    {
     "data": {
      "image/png": "[encoded data removed]",
      "text/plain": [
       "<matplotlib.figure.Figure at 0x1c96eac1390>"
      ]
     },
     "metadata": {},
     "output_type": "display_data"
    }
   ],
   "source": [
    "plt.plot(commits_df[commits_df.columns[2:len(commits_df.columns)-1]].quantile(axis=1))\n",
    "plt.title('Temperature')\n",
    "plt.ylabel('celsius')\n",
    "plt.xlabel('sequence')\n",
    "plt.show()"
   ]
  },
  {
   "cell_type": "code",
   "execution_count": 98,
   "metadata": {},
   "outputs": [],
   "source": [
    "commits_df['mean'] = commits_df[commits_df.columns[2:len(commits_df.columns)-1]].mean(axis=1)"
   ]
  },
  {
   "cell_type": "code",
   "execution_count": 99,
   "metadata": {
    "collapsed": true
   },
   "outputs": [],
   "source": [
    "commits_df['middle'] = commits_df[commits_df.columns[2:len(commits_df.columns)-1]].quantile(axis=1)"
   ]
  },
  {
   "cell_type": "code",
   "execution_count": 100,
   "metadata": {},
   "outputs": [
    {
     "data": {
      "image/png": "[encoded data removed]",
      "text/plain": [
       "<matplotlib.figure.Figure at 0x1c96eac15f8>"
      ]
     },
     "metadata": {},
     "output_type": "display_data"
    }
   ],
   "source": [
    "plt.plot(commits_df['mean'])\n",
    "plt.plot(commits_df['middle'])\n",
    "plt.show()"
   ]
  },
  {
   "cell_type": "code",
   "execution_count": 101,
   "metadata": {
    "collapsed": true
   },
   "outputs": [],
   "source": [
    "commits_df['diff'] = commits_df['mean'] - commits_df['middle']"
   ]
  },
  {
   "cell_type": "code",
   "execution_count": 102,
   "metadata": {},
   "outputs": [
    {
     "data": {
      "image/png": "[encoded data removed]",
      "text/plain": [
       "<matplotlib.figure.Figure at 0x1c96eb29160>"
      ]
     },
     "metadata": {},
     "output_type": "display_data"
    }
   ],
   "source": [
    "plt.plot(commits_df['diff'])\n",
    "plt.show()"
   ]
  },
  {
   "cell_type": "code",
   "execution_count": 103,
   "metadata": {},
   "outputs": [
    {
     "data": {
      "text/html": [
       "<div>\n",
       "<style>\n",
       "    .dataframe thead tr:only-child th {\n",
       "        text-align: right;\n",
       "    }\n",
       "\n",
       "    .dataframe thead th {\n",
       "        text-align: left;\n",
       "    }\n",
       "\n",
       "    .dataframe tbody tr th {\n",
       "        vertical-align: top;\n",
       "    }\n",
       "</style>\n",
       "<table border=\"1\" class=\"dataframe\">\n",
       "  <thead>\n",
       "    <tr style=\"text-align: right;\">\n",
       "      <th></th>\n",
       "      <th>x</th>\n",
       "      <th>seqx</th>\n",
       "      <th>1T</th>\n",
       "      <th>2T</th>\n",
       "      <th>3T</th>\n",
       "      <th>4T</th>\n",
       "      <th>5T</th>\n",
       "      <th>6T</th>\n",
       "      <th>7T</th>\n",
       "      <th>8T</th>\n",
       "      <th>...</th>\n",
       "      <th>40T</th>\n",
       "      <th>41T</th>\n",
       "      <th>42T</th>\n",
       "      <th>43T</th>\n",
       "      <th>44T</th>\n",
       "      <th>45T</th>\n",
       "      <th>n</th>\n",
       "      <th>mean</th>\n",
       "      <th>middle</th>\n",
       "      <th>diff</th>\n",
       "    </tr>\n",
       "  </thead>\n",
       "  <tbody>\n",
       "    <tr>\n",
       "      <th>0</th>\n",
       "      <td>[Seq:</td>\n",
       "      <td>66]</td>\n",
       "      <td>20.93</td>\n",
       "      <td>20.75</td>\n",
       "      <td>20.12</td>\n",
       "      <td>20.75</td>\n",
       "      <td>20.37</td>\n",
       "      <td>21.00</td>\n",
       "      <td>20.81</td>\n",
       "      <td>20.43</td>\n",
       "      <td>...</td>\n",
       "      <td>20.87</td>\n",
       "      <td>20.93</td>\n",
       "      <td>20.93</td>\n",
       "      <td>20.93</td>\n",
       "      <td>20.50</td>\n",
       "      <td>20.68</td>\n",
       "      <td>(45)</td>\n",
       "      <td>20.726667</td>\n",
       "      <td>20.81</td>\n",
       "      <td>-0.083333</td>\n",
       "    </tr>\n",
       "    <tr>\n",
       "      <th>1</th>\n",
       "      <td>[Seq:</td>\n",
       "      <td>67]</td>\n",
       "      <td>20.87</td>\n",
       "      <td>20.68</td>\n",
       "      <td>20.06</td>\n",
       "      <td>20.68</td>\n",
       "      <td>20.37</td>\n",
       "      <td>20.93</td>\n",
       "      <td>20.75</td>\n",
       "      <td>20.37</td>\n",
       "      <td>...</td>\n",
       "      <td>20.93</td>\n",
       "      <td>21.06</td>\n",
       "      <td>20.87</td>\n",
       "      <td>20.93</td>\n",
       "      <td>20.56</td>\n",
       "      <td>20.68</td>\n",
       "      <td>(45)</td>\n",
       "      <td>20.725111</td>\n",
       "      <td>20.81</td>\n",
       "      <td>-0.084889</td>\n",
       "    </tr>\n",
       "    <tr>\n",
       "      <th>2</th>\n",
       "      <td>[Seq:</td>\n",
       "      <td>68]</td>\n",
       "      <td>20.87</td>\n",
       "      <td>20.68</td>\n",
       "      <td>20.12</td>\n",
       "      <td>20.68</td>\n",
       "      <td>20.43</td>\n",
       "      <td>21.00</td>\n",
       "      <td>20.81</td>\n",
       "      <td>20.43</td>\n",
       "      <td>...</td>\n",
       "      <td>20.87</td>\n",
       "      <td>21.12</td>\n",
       "      <td>20.87</td>\n",
       "      <td>20.93</td>\n",
       "      <td>20.56</td>\n",
       "      <td>20.68</td>\n",
       "      <td>(45)</td>\n",
       "      <td>20.734222</td>\n",
       "      <td>20.81</td>\n",
       "      <td>-0.075778</td>\n",
       "    </tr>\n",
       "    <tr>\n",
       "      <th>3</th>\n",
       "      <td>[Seq:</td>\n",
       "      <td>69]</td>\n",
       "      <td>20.93</td>\n",
       "      <td>20.68</td>\n",
       "      <td>20.12</td>\n",
       "      <td>20.68</td>\n",
       "      <td>20.37</td>\n",
       "      <td>21.00</td>\n",
       "      <td>20.81</td>\n",
       "      <td>20.43</td>\n",
       "      <td>...</td>\n",
       "      <td>20.93</td>\n",
       "      <td>21.18</td>\n",
       "      <td>20.87</td>\n",
       "      <td>20.93</td>\n",
       "      <td>20.50</td>\n",
       "      <td>20.68</td>\n",
       "      <td>(45)</td>\n",
       "      <td>20.732889</td>\n",
       "      <td>20.81</td>\n",
       "      <td>-0.077111</td>\n",
       "    </tr>\n",
       "    <tr>\n",
       "      <th>4</th>\n",
       "      <td>[Seq:</td>\n",
       "      <td>70]</td>\n",
       "      <td>20.93</td>\n",
       "      <td>20.68</td>\n",
       "      <td>20.12</td>\n",
       "      <td>20.68</td>\n",
       "      <td>20.43</td>\n",
       "      <td>21.00</td>\n",
       "      <td>20.75</td>\n",
       "      <td>20.50</td>\n",
       "      <td>...</td>\n",
       "      <td>20.93</td>\n",
       "      <td>21.18</td>\n",
       "      <td>20.87</td>\n",
       "      <td>20.93</td>\n",
       "      <td>20.50</td>\n",
       "      <td>20.68</td>\n",
       "      <td>(45)</td>\n",
       "      <td>20.747333</td>\n",
       "      <td>20.81</td>\n",
       "      <td>-0.062667</td>\n",
       "    </tr>\n",
       "  </tbody>\n",
       "</table>\n",
       "<p>5 rows × 51 columns</p>\n",
       "</div>"
      ],
      "text/plain": [
       "       x seqx     1T     2T     3T     4T     5T     6T     7T     8T  \\\n",
       "0  [Seq:  66]  20.93  20.75  20.12  20.75  20.37  21.00  20.81  20.43   \n",
       "1  [Seq:  67]  20.87  20.68  20.06  20.68  20.37  20.93  20.75  20.37   \n",
       "2  [Seq:  68]  20.87  20.68  20.12  20.68  20.43  21.00  20.81  20.43   \n",
       "3  [Seq:  69]  20.93  20.68  20.12  20.68  20.37  21.00  20.81  20.43   \n",
       "4  [Seq:  70]  20.93  20.68  20.12  20.68  20.43  21.00  20.75  20.50   \n",
       "\n",
       "     ...       40T    41T    42T    43T    44T    45T     n       mean  \\\n",
       "0    ...     20.87  20.93  20.93  20.93  20.50  20.68  (45)  20.726667   \n",
       "1    ...     20.93  21.06  20.87  20.93  20.56  20.68  (45)  20.725111   \n",
       "2    ...     20.87  21.12  20.87  20.93  20.56  20.68  (45)  20.734222   \n",
       "3    ...     20.93  21.18  20.87  20.93  20.50  20.68  (45)  20.732889   \n",
       "4    ...     20.93  21.18  20.87  20.93  20.50  20.68  (45)  20.747333   \n",
       "\n",
       "   middle      diff  \n",
       "0   20.81 -0.083333  \n",
       "1   20.81 -0.084889  \n",
       "2   20.81 -0.075778  \n",
       "3   20.81 -0.077111  \n",
       "4   20.81 -0.062667  \n",
       "\n",
       "[5 rows x 51 columns]"
      ]
     },
     "execution_count": 103,
     "metadata": {},
     "output_type": "execute_result"
    }
   ],
   "source": [
    "commits_df[:5]"
   ]
  },
  {
   "cell_type": "code",
   "execution_count": null,
   "metadata": {
    "collapsed": true
   },
   "outputs": [],
   "source": []
  },
  {
   "cell_type": "code",
   "execution_count": null,
   "metadata": {
    "collapsed": true
   },
   "outputs": [],
   "source": []
  }
 ],
 "metadata": {
  "kernelspec": {
   "display_name": "Python 3",
   "language": "python",
   "name": "python3"
  },
  "language_info": {
   "codemirror_mode": {
    "name": "ipython",
    "version": 3
   },
   "file_extension": ".py",
   "mimetype": "text/x-python",
   "name": "python",
   "nbconvert_exporter": "python",
   "pygments_lexer": "ipython3",
   "version": "3.6.3"
  }
 },
 "nbformat": 4,
 "nbformat_minor": 2
}
